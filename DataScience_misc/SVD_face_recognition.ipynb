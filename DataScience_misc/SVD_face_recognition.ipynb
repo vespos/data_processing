{
 "cells": [
  {
   "cell_type": "code",
   "execution_count": null,
   "metadata": {},
   "outputs": [],
   "source": [
    "import numpy as np\n",
    "import matplotlib.pyplot as plt\n",
    "import h5py as h5\n",
    "import sys\n",
    "import os\n",
    "from pathlib import Path\n",
    "from importlib import reload"
   ]
  },
  {
   "cell_type": "code",
   "execution_count": null,
   "metadata": {},
   "outputs": [],
   "source": [
    "plt.style.use('dark_background')\n",
    "#matplotlib.rcParams.keys()\n",
    "plt.rcParams['figure.figsize'] = (10, 6)\n",
    "plt.rc('font', size=12)\n",
    "length = 8\n",
    "width = 1.5\n",
    "plt.rcParams['xtick.major.size'] = length\n",
    "plt.rcParams['ytick.major.size'] = length\n",
    "plt.rcParams['xtick.major.width'] = width\n",
    "plt.rcParams['ytick.major.width'] = width"
   ]
  },
  {
   "cell_type": "code",
   "execution_count": null,
   "metadata": {},
   "outputs": [],
   "source": [
    "from sklearn.datasets import fetch_olivetti_faces\n",
    "data = fetch_olivetti_faces()\n",
    "imgs = data.images\n",
    "print(imgs.shape)"
   ]
  },
  {
   "cell_type": "code",
   "execution_count": null,
   "metadata": {},
   "outputs": [],
   "source": [
    "fig, axes = plt.subplots(1, 5, figsize=(14, 8))\n",
    "plt.subplots_adjust(wspace=0.4)\n",
    "\n",
    "for i in range(0, 5):\n",
    "    axes[i].imshow(imgs[i*40], cmap='gray')\n",
    "\n",
    "plt.show()"
   ]
  },
  {
   "cell_type": "code",
   "execution_count": null,
   "metadata": {},
   "outputs": [],
   "source": [
    "M = imgs.reshape((-1, imgs.shape[1]*imgs.shape[2])).T # matrix with flattend images along the column axis\n",
    "\n",
    "x= np.zeros((400, 1))\n",
    "x[50, 0] = 1\n",
    "y = M @ x\n",
    "plt.imshow(y.reshape((64,64)), cmap='gray')\n",
    "plt.show()"
   ]
  },
  {
   "cell_type": "code",
   "execution_count": null,
   "metadata": {},
   "outputs": [],
   "source": [
    "U, s, VT = np.linalg.svd(M)\n",
    "\n",
    "fig, axes = plt.subplots(2, 4, figsize=(10,6))\n",
    "plt.subplots_adjust(wspace=0.3, hspace=0.1)\n",
    "\n",
    "for i in range(0, 8):\n",
    "    axes[i // 4, i % 4].imshow(U[:, i].reshape((64,64)))\n",
    "    axes[i // 4, i % 4].set_title(\"$\\mathbf{{u_{0}}}$\".format(i+1), fontsize=16)\n",
    "    \n",
    "plt.show()"
   ]
  },
  {
   "cell_type": "code",
   "execution_count": null,
   "metadata": {},
   "outputs": [],
   "source": [
    "x= np.zeros((400, 1))\n",
    "x[160, 0] = 1\n",
    "Sigma = np.zeros((M.shape[0], M.shape[1]))\n",
    "Sigma[:min(M.shape[0], M.shape[1]), :min(M.shape[0], M.shape[1])] = np.diag(s)\n",
    "\n",
    "fig, axes = plt.subplots(2, 4, figsize=(14, 8))\n",
    "fig.suptitle(\"Reconstructed image using the first k singular values\", fontsize=16)\n",
    "plt.subplots_adjust(wspace=0.3, hspace=0.1)\n",
    "\n",
    "axes[0, 0].imshow(imgs[160], cmap='gray')\n",
    "axes[0, 0].set_title(\"Original image\")\n",
    "\n",
    "k_list = [1, 6, 10, 15, 20, 35, 80]\n",
    "for i in range(1, 8):\n",
    "    # Reconstruction of the matrix using the first k singular values\n",
    "    k = k_list[i-1] \n",
    "    mat_approx = U[:, :k] @ Sigma[:k, :k] @ VT[:k, :] @ x\n",
    "\n",
    "    axes[i // 4, i % 4].imshow(mat_approx.reshape((64,64)), cmap='gray')\n",
    "    axes[i // 4, i % 4].set_title(\"k = {}\".format(k))\n",
    "\n",
    "plt.show()"
   ]
  },
  {
   "cell_type": "code",
   "execution_count": null,
   "metadata": {},
   "outputs": [],
   "source": []
  }
 ],
 "metadata": {
  "kernelspec": {
   "display_name": "XPP Python 3",
   "language": "python",
   "name": "xpp-py3"
  },
  "language_info": {
   "codemirror_mode": {
    "name": "ipython",
    "version": 3
   },
   "file_extension": ".py",
   "mimetype": "text/x-python",
   "name": "python",
   "nbconvert_exporter": "python",
   "pygments_lexer": "ipython3",
   "version": "3.7.4"
  }
 },
 "nbformat": 4,
 "nbformat_minor": 2
}
