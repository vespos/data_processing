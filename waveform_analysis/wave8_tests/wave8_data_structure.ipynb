{
 "cells": [
  {
   "cell_type": "code",
   "execution_count": 80,
   "metadata": {},
   "outputs": [
    {
     "data": {
      "text/plain": [
       "<module 'wave8_data' from '/reg/neh/home4/espov/python/data_processing/waveform_analysis/wave8_tests/wave8_data.py'>"
      ]
     },
     "execution_count": 80,
     "metadata": {},
     "output_type": "execute_result"
    }
   ],
   "source": [
    "import sys\n",
    "import numpy as np\n",
    "from pathlib import Path\n",
    "\n",
    "from importlib import reload\n",
    "\n",
    "import wave8_data as wave8\n",
    "reload(wave8)"
   ]
  },
  {
   "cell_type": "code",
   "execution_count": 81,
   "metadata": {},
   "outputs": [
    {
     "data": {
      "text/plain": [
       "True"
      ]
     },
     "execution_count": 81,
     "metadata": {},
     "output_type": "execute_result"
    }
   ],
   "source": [
    "file = Path('./data/20200623_2.dat')\n",
    "# file = Path('./data/data3.dat')\n",
    "file.exists()"
   ]
  },
  {
   "cell_type": "code",
   "execution_count": 82,
   "metadata": {},
   "outputs": [
    {
     "name": "stdout",
     "output_type": "stream",
     "text": [
      "Events read: 4212\n"
     ]
    },
    {
     "data": {
      "text/plain": [
       "{'ProcQuadSel': 0,\n",
       " 'Proc': array([7.21000000e+03, 6.91539528e-01, 7.09570042e-01]),\n",
       " 'IntBlSize': 32,\n",
       " 'IntSize': 100,\n",
       " 'IntDelay': 50,\n",
       " 'Int': array([5983,  115,  180,  932,   47,   60,   14,   92], dtype=uint32)}"
      ]
     },
     "execution_count": 82,
     "metadata": {},
     "output_type": "execute_result"
    }
   ],
   "source": [
    "events = wave8.file2frames(file)\n",
    "wave8data = wave8.descramble_frame(events[0])\n",
    "wave8data"
   ]
  },
  {
   "cell_type": "code",
   "execution_count": 84,
   "metadata": {},
   "outputs": [
    {
     "name": "stdout",
     "output_type": "stream",
     "text": [
      "Events read: 4212\n"
     ]
    }
   ],
   "source": [
    "wave8data = wave8.get_intensities(file)"
   ]
  },
  {
   "cell_type": "code",
   "execution_count": null,
   "metadata": {},
   "outputs": [],
   "source": []
  },
  {
   "cell_type": "code",
   "execution_count": null,
   "metadata": {},
   "outputs": [],
   "source": []
  },
  {
   "cell_type": "code",
   "execution_count": null,
   "metadata": {},
   "outputs": [],
   "source": []
  },
  {
   "cell_type": "code",
   "execution_count": null,
   "metadata": {},
   "outputs": [],
   "source": []
  }
 ],
 "metadata": {
  "kernelspec": {
   "display_name": "Python 3 ana-current (new)",
   "language": "python",
   "name": "ana1-current-py3"
  },
  "language_info": {
   "codemirror_mode": {
    "name": "ipython",
    "version": 3
   },
   "file_extension": ".py",
   "mimetype": "text/x-python",
   "name": "python",
   "nbconvert_exporter": "python",
   "pygments_lexer": "ipython3",
   "version": "3.7.8"
  }
 },
 "nbformat": 4,
 "nbformat_minor": 2
}
