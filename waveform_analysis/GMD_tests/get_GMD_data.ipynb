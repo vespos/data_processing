{
 "cells": [
  {
   "cell_type": "code",
   "execution_count": 1,
   "metadata": {},
   "outputs": [],
   "source": [
    "import numpy as np\n",
    "import matplotlib.pyplot as plt\n",
    "import h5py as h5\n",
    "import sys\n",
    "import os\n",
    "from pathlib import Path\n",
    "\n",
    "import psana as ps\n",
    "\n",
    "plt.style.use('dark_background')\n",
    "#matplotlib.rcParams.keys()\n",
    "plt.rcParams['figure.figsize'] = (10, 6)\n",
    "plt.rc('font', size=12)\n",
    "length = 8\n",
    "width = 1.5\n",
    "plt.rcParams['xtick.major.size'] = length\n",
    "plt.rcParams['ytick.major.size'] = length\n",
    "plt.rcParams['xtick.major.width'] = width\n",
    "plt.rcParams['ytick.major.width'] = width"
   ]
  },
  {
   "cell_type": "code",
   "execution_count": 2,
   "metadata": {},
   "outputs": [],
   "source": [
    "exp_name = 'sxrx21715'\n",
    "run = 13"
   ]
  },
  {
   "cell_type": "code",
   "execution_count": 3,
   "metadata": {},
   "outputs": [
    {
     "name": "stdout",
     "output_type": "stream",
     "text": [
      "\n",
      "exp=sxrx21715:run=13:smd\n",
      "\n",
      "[('SxrBeamline.0:Opal1000.2', 'EXS_OPAL_Full', ''), ('NoDetector.0:Evr.0', 'evr0', ''), ('SxrEndstation.0:Acqiris.1', 'Acq01', ''), ('SxrEndstation.0:Acqiris.2', 'Acq02', ''), ('SxrEndstation.0:USDUSB.0', 'MONO_encoder', ''), ('SxrEndstation.0:USDUSB.1', 'DLS_encoder', ''), ('NoDetector.0:Evr.1', 'evr1', ''), ('EBeam', '', ''), ('PhaseCavity', '', ''), ('FEEGasDetEnergy', '', ''), ('GMD', '', ''), ('EOrbits', '', ''), ('SxrBeamline.0:Opal1000.1', 'EXS_OPAL', ''), ('ControlData', '', '')]\n"
     ]
    }
   ],
   "source": [
    "dstr = 'exp={}:run={}:smd'.format(exp_name, run)\n",
    "print('\\n'+dstr+'\\n')\n",
    "# ds = ps.DataSource(dstr)\n",
    "ds = ps.MPIDataSource(dstr)\n",
    "print(ds.detnames())"
   ]
  },
  {
   "cell_type": "code",
   "execution_count": null,
   "metadata": {},
   "outputs": [],
   "source": []
  }
 ],
 "metadata": {
  "kernelspec": {
   "display_name": "Python 2 ana-current",
   "language": "python",
   "name": "ana-current"
  },
  "language_info": {
   "codemirror_mode": {
    "name": "ipython",
    "version": 2
   },
   "file_extension": ".py",
   "mimetype": "text/x-python",
   "name": "python",
   "nbconvert_exporter": "python",
   "pygments_lexer": "ipython2",
   "version": "2.7.15"
  }
 },
 "nbformat": 4,
 "nbformat_minor": 2
}
