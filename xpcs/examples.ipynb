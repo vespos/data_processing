{
 "cells": [
  {
   "cell_type": "code",
   "execution_count": null,
   "metadata": {},
   "outputs": [],
   "source": [
    "import numpy as np\n",
    "import matplotlib.pyplot as plt\n",
    "# from importlib import reload\n",
    "\n",
    "import correlation as corr\n",
    "from speckle_stat import SpeckleStatistics"
   ]
  },
  {
   "cell_type": "code",
   "execution_count": null,
   "metadata": {},
   "outputs": [],
   "source": [
    "plt.style.use('dark_background')\n",
    "#matplotlib.rcParams.keys()\n",
    "plt.rcParams['figure.figsize'] = (10, 6)\n",
    "plt.rc('font', size=12)\n",
    "length = 8\n",
    "width = 1.5\n",
    "plt.rcParams['xtick.major.size'] = length\n",
    "plt.rcParams['ytick.major.size'] = length\n",
    "plt.rcParams['xtick.major.width'] = width\n",
    "plt.rcParams['ytick.major.width'] = width"
   ]
  },
  {
   "cell_type": "markdown",
   "metadata": {},
   "source": [
    "# 1) Autocorrelation\n",
    "\n",
    "Example with Jungfrau average detector image from in-house beamtime xpp40718."
   ]
  },
  {
   "cell_type": "code",
   "execution_count": null,
   "metadata": {},
   "outputs": [],
   "source": [
    "run = 36\n",
    "dat = np.load('./data_examples/proba_r{}.npz'.format(run))\n",
    "pk = dat['pk']\n",
    "kbar = dat['kbar']\n",
    "Nroi = dat['Nroi']\n",
    "aimg = dat['aimg']\n",
    "\n",
    "roi = [380,480, 550,750]\n",
    "img = aimg[0]\n",
    "mask = np.zeros_like(img).astype(bool)\n",
    "mask[roi[0]:roi[1], roi[2]:roi[3]] = True\n",
    "plt.imshow(img*(1+1.5*mask), clim=(0,8), origin='lower')\n",
    "plt.show()"
   ]
  },
  {
   "cell_type": "markdown",
   "metadata": {},
   "source": [
    "## Correct for non-uniform illumination"
   ]
  },
  {
   "cell_type": "code",
   "execution_count": null,
   "metadata": {},
   "outputs": [],
   "source": [
    "img_corr, mask2, bp = corr.correct_illumination(img, mask, kernel_size=50)\n",
    "\n",
    "fig, ax = plt.subplots(nrows=2, figsize=(14,10))\n",
    "ax[0].set_title('Correction factor')\n",
    "ax[0].imshow(bp, origin='lower')\n",
    "ax[1].set_title('Corrected average detector image')\n",
    "ax[1].imshow(img_corr[0]*(1+mask2), clim=(0,10), origin='lower')\n",
    "plt.show()"
   ]
  },
  {
   "cell_type": "markdown",
   "metadata": {},
   "source": [
    "## Compute and fit autocorrelation"
   ]
  },
  {
   "cell_type": "code",
   "execution_count": null,
   "metadata": {},
   "outputs": [],
   "source": [
    "A = corr.spatial_correlation_fourier(img_corr[0], mask=mask2)\n",
    "A = corr.remove_central_corr(A)\n",
    "\n",
    "fig, ax = plt.subplots(figsize=(10,8))\n",
    "ax.imshow(A, clim=(0.5,2))\n",
    "ax.set_title(\"Autocorrelation\")\n",
    "plt.show()"
   ]
  },
  {
   "cell_type": "code",
   "execution_count": null,
   "metadata": {},
   "outputs": [],
   "source": [
    "corr.fit_correlation(A)"
   ]
  },
  {
   "cell_type": "markdown",
   "metadata": {},
   "source": [
    "# 2) Contrast fit\n",
    "\n",
    "Example with the data from the epix100, under a pixel mask.\n",
    "\n",
    "What needs to be saved from the image processing for the contrast extraction:\n",
    "- kave\n",
    "- photon probabilities (at least k=0-3)\n",
    "- size of the ROI"
   ]
  },
  {
   "cell_type": "code",
   "execution_count": null,
   "metadata": {},
   "outputs": [],
   "source": [
    "run = 91\n",
    "dat = np.load('./data_examples/proba_r{}.npz'.format(run))\n",
    "pk = dat['pk']\n",
    "kbar = dat['kbar']\n",
    "Nroi = dat['Nroi']\n",
    "aimg = dat['aimg']\n",
    "\n",
    "plt.imshow(aimg, clim=(0,8))\n",
    "plt.show()"
   ]
  },
  {
   "cell_type": "code",
   "execution_count": null,
   "metadata": {},
   "outputs": [],
   "source": [
    "speck = SpeckleStatistics(kbar, pk, nRoi=Nroi, kavgRange=[0.01,0.4,15])"
   ]
  },
  {
   "cell_type": "markdown",
   "metadata": {},
   "source": [
    "## Fit binomial distribution"
   ]
  },
  {
   "cell_type": "code",
   "execution_count": null,
   "metadata": {},
   "outputs": [],
   "source": [
    "fig, ax = plt.subplots()\n",
    "# beta, beta_err, fitRes = speck.fit_pk(0, ax=ax)\n",
    "# print('{} +/- {}'.format(beta, beta_err))\n",
    "beta, beta_err, fitRes = speck.fit_pk(1, ax=ax)\n",
    "print('{} +/- {}'.format(beta, beta_err))\n",
    "beta, beta_err, fitRes = speck.fit_pk(2, ax=ax)\n",
    "print('{} +/- {}'.format(beta, beta_err))\n",
    "beta, beta_err, fitRes = speck.fit_pk(3, ax=ax)\n",
    "print('{} +/- {}'.format(beta, beta_err))"
   ]
  },
  {
   "cell_type": "code",
   "execution_count": null,
   "metadata": {},
   "outputs": [],
   "source": [
    "fig, ax = plt.subplots()\n",
    "\n",
    "beta, beta_err, fitRes = speck.fit_pk(1, ax=ax, bin_kavg=False)\n",
    "print('{} +/- {}'.format(beta, beta_err))\n",
    "beta, beta_err, fitRes = speck.fit_pk(2, ax=ax, bin_kavg=False)\n",
    "print('{} +/- {}'.format(beta, beta_err))\n",
    "# beta, beta_err, fitRes = speck.fit_pk(3, ax=ax, bin_kavg=False)\n",
    "# print('{} +/- {}'.format(beta, beta_err))"
   ]
  },
  {
   "cell_type": "markdown",
   "metadata": {},
   "source": [
    "## Maximum likelihood estimate"
   ]
  },
  {
   "cell_type": "code",
   "execution_count": null,
   "metadata": {},
   "outputs": [],
   "source": [
    "fig, ax = plt.subplots()\n",
    "beta, beta_err, M, MLE = speck.MLE_contrast(M=np.arange(1,5,0.05), ax=ax)"
   ]
  },
  {
   "cell_type": "markdown",
   "metadata": {},
   "source": [
    "## More examples on lower contrast"
   ]
  },
  {
   "cell_type": "code",
   "execution_count": null,
   "metadata": {},
   "outputs": [],
   "source": [
    "run = 125\n",
    "dat = np.load('./data_examples/proba_r{}.npz'.format(run))\n",
    "pk = dat['pk']\n",
    "kbar = dat['kbar']\n",
    "Nroi = dat['Nroi']\n",
    "aimg = dat['aimg']\n",
    "\n",
    "# plt.imshow(aimg, clim=(0,8))\n",
    "# plt.show()\n",
    "\n",
    "# FIT\n",
    "speck = SpeckleStatistics(kbar, pk, nRoi=Nroi)\n",
    "fig, ax = plt.subplots()\n",
    "beta, beta_err, fitRes = speck.fit_pk(1, ax=ax)\n",
    "print('{} +/- {}'.format(beta, beta_err))\n",
    "beta, beta_err, fitRes = speck.fit_pk(2, ax=ax)\n",
    "print('{} +/- {}'.format(beta, beta_err))\n",
    "beta, beta_err, fitRes = speck.fit_pk(3, ax=ax)\n",
    "print('{} +/- {}'.format(beta, beta_err))\n",
    "\n",
    "# MLE\n",
    "fig, ax = plt.subplots()\n",
    "beta, beta_err, M, MLE = speck.MLE_contrast(ax=ax)"
   ]
  },
  {
   "cell_type": "code",
   "execution_count": null,
   "metadata": {},
   "outputs": [],
   "source": [
    "run = 136\n",
    "dat = np.load('./data_examples/proba_r{}.npz'.format(run))\n",
    "pk = dat['pk']\n",
    "kbar = dat['kbar']\n",
    "Nroi = dat['Nroi']\n",
    "aimg = dat['aimg']\n",
    "\n",
    "# plt.imshow(aimg, clim=(0,8))\n",
    "# plt.show()\n",
    "\n",
    "# FIT\n",
    "speck = SpeckleStatistics(kbar, pk, nRoi=Nroi)\n",
    "fig, ax = plt.subplots()\n",
    "beta, beta_err, fitRes = speck.fit_pk(1, ax=ax)\n",
    "print('{} +/- {}'.format(beta, beta_err))\n",
    "beta, beta_err, fitRes = speck.fit_pk(2, ax=ax)\n",
    "print('{} +/- {}'.format(beta, beta_err))\n",
    "beta, beta_err, fitRes = speck.fit_pk(3, ax=ax)\n",
    "print('{} +/- {}'.format(beta, beta_err))\n",
    "\n",
    "# MLE\n",
    "fig, ax = plt.subplots()\n",
    "beta, beta_err, M, MLE = speck.MLE_contrast(ax=ax)"
   ]
  },
  {
   "cell_type": "code",
   "execution_count": null,
   "metadata": {},
   "outputs": [],
   "source": []
  },
  {
   "cell_type": "code",
   "execution_count": null,
   "metadata": {},
   "outputs": [],
   "source": []
  },
  {
   "cell_type": "code",
   "execution_count": null,
   "metadata": {},
   "outputs": [],
   "source": []
  }
 ],
 "metadata": {
  "kernelspec": {
   "display_name": "LCLS-I py3",
   "language": "python",
   "name": "ana1-current-py3"
  },
  "language_info": {
   "codemirror_mode": {
    "name": "ipython",
    "version": 3
   },
   "file_extension": ".py",
   "mimetype": "text/x-python",
   "name": "python",
   "nbconvert_exporter": "python",
   "pygments_lexer": "ipython3",
   "version": "3.7.8"
  }
 },
 "nbformat": 4,
 "nbformat_minor": 2
}
